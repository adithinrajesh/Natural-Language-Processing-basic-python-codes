{
 "cells": [
  {
   "cell_type": "code",
   "execution_count": 1,
   "id": "fbf86a9d-f813-4be6-b177-907baa986546",
   "metadata": {},
   "outputs": [],
   "source": [
    "import math\n",
    "from collections import Counter"
   ]
  },
  {
   "cell_type": "code",
   "execution_count": 2,
   "id": "95f8abc8-e3df-4846-a730-6f4b48841472",
   "metadata": {},
   "outputs": [],
   "source": [
    "def count_word_occurrences(data):\n",
    "    word_counts = Counter()\n",
    "    total_sentences = 0\n",
    "\n",
    "    for category, sentences in data.items():\n",
    "        for sentence in sentences:\n",
    "            total_sentences += 1\n",
    "            word_counts.update(sentence)\n",
    "\n",
    "    return word_counts, total_sentences"
   ]
  },
  {
   "cell_type": "code",
   "execution_count": 3,
   "id": "4910e9dc-69f5-496b-b88f-249dfd999116",
   "metadata": {},
   "outputs": [],
   "source": [
    "def calculate_probabilities(word_given_chair, total_sentences, vocabulary, query):\n",
    "    total_words = len(vocabulary)\n",
    "    prob_word_given_chair = word_given_chair / total_sentences\n",
    "    probabilities = [(list(query).count(word) + 1) / (word_given_chair + total_words) for word in vocabulary]\n",
    "\n",
    "    return prob_word_given_chair, probabilities"
   ]
  },
  {
   "cell_type": "code",
   "execution_count": 4,
   "id": "6eeccf37-566f-4d6f-b88a-9451420e35ea",
   "metadata": {},
   "outputs": [],
   "source": [
    "def calculate_final_score(prob_chair, prob_word):\n",
    "    return math.log10(prob_chair) + sum(math.log10(prob_word_i) for prob_word_i in prob_word)"
   ]
  },
  {
   "cell_type": "code",
   "execution_count": 5,
   "id": "3fb7ceba-9e9f-433f-8cfb-f46a464056b2",
   "metadata": {},
   "outputs": [],
   "source": [
    "data = {\n",
    "    \"f\": [(\"Put\", \"coat\", \"back\", \"Chair\", \"sat\", \"down\"), (\"Chair\", \"made\", \"timber\", \"company\"), (\"Type\", \"different\", \"Chair\", \"Award\", \"fun\", \"use\")],\n",
    "    \"p\": [(\"Chair\", \"institute\", \"best\"), (\"Award\", \"IT\", \"Chair\")]\n",
    "}\n",
    "\n",
    "vocabulary = set([\"Put\", \"coat\", \"back\", \"Chair\", \"sat\", \"down\", \"made\", \"it\", \"institute\", \"best\", \"Award\", \"IT\", \"company\"])\n",
    "query = set([\"Award\", \"Chair\", \"IT\", \"company\"])"
   ]
  },
  {
   "cell_type": "code",
   "execution_count": 6,
   "id": "322b7e05-d12b-4f85-aacc-131a1165ccba",
   "metadata": {},
   "outputs": [],
   "source": [
    "f_word_count, p_word_count = count_word_occurrences(data)\n",
    "total_sentences = sum(len(sentences) for sentences in data.values())"
   ]
  },
  {
   "cell_type": "code",
   "execution_count": 7,
   "id": "e7318236-8b9b-4c79-88f0-8c76dea83a17",
   "metadata": {},
   "outputs": [],
   "source": [
    "f_prob_word_given_chair = sum(1 for sentence in data[\"f\"] for word in sentence if word == \"Chair\")\n",
    "p_prob_word_given_chair = sum(1 for sentence in data[\"p\"] for word in sentence if word == \"Chair\")"
   ]
  },
  {
   "cell_type": "code",
   "execution_count": 8,
   "id": "d8778074-55fe-4398-be64-8973b366ff89",
   "metadata": {},
   "outputs": [],
   "source": [
    "f_prob_chair, prob_f = calculate_probabilities(f_prob_word_given_chair, total_sentences, vocabulary, list(query))\n",
    "p_prob_chair, prob_p = calculate_probabilities(p_prob_word_given_chair, total_sentences, vocabulary, list(query))"
   ]
  },
  {
   "cell_type": "code",
   "execution_count": 9,
   "id": "cc19632e-d4d5-4ce4-8d48-d642fb308492",
   "metadata": {},
   "outputs": [],
   "source": [
    "final_score_f = calculate_final_score(f_prob_chair, prob_f)\n",
    "final_score_p = calculate_final_score(p_prob_chair, prob_p)"
   ]
  },
  {
   "cell_type": "code",
   "execution_count": 10,
   "id": "e53b6f2c-9f75-418a-a38f-9fd11046decd",
   "metadata": {},
   "outputs": [
    {
     "name": "stdout",
     "output_type": "stream",
     "text": [
      "\n",
      "f_prob_chair: 0.6\n",
      "prob_f: [0.06, 0.12, 0.12, 0.12, 0.06, 0.06, 0.06, 0.06, 0.06, 0.06, 0.12, 0.06, 0.06]\n",
      "final_score_f: -14.67\n"
     ]
    }
   ],
   "source": [
    "print()\n",
    "print(\"f_prob_chair:\", round(f_prob_chair,2))\n",
    "prob_f2 = []\n",
    "for word in prob_f:\n",
    "    word = round(word, 2)\n",
    "    prob_f2.append(word)\n",
    "print(\"prob_f:\", prob_f2)\n",
    "print(\"final_score_f:\", round(final_score_f,2))"
   ]
  },
  {
   "cell_type": "code",
   "execution_count": 11,
   "id": "e71c641b-7795-4cb5-b37c-11f609cf0a5c",
   "metadata": {},
   "outputs": [
    {
     "name": "stdout",
     "output_type": "stream",
     "text": [
      "\n",
      "p_prob_chair: 0.4\n",
      "prob_p: [0.07, 0.13, 0.13, 0.13, 0.07, 0.07, 0.07, 0.07, 0.07, 0.07, 0.13, 0.07, 0.07]\n",
      "final_score_p: -14.48\n"
     ]
    }
   ],
   "source": [
    "print()\n",
    "print(\"p_prob_chair:\", round(p_prob_chair,2))\n",
    "prob_p2 = []\n",
    "for word in prob_p:\n",
    "    word = round(word, 2)\n",
    "    prob_p2.append(word)\n",
    "print(\"prob_p:\", prob_p2)\n",
    "print(\"final_score_p:\", round(final_score_p,2))"
   ]
  },
  {
   "cell_type": "code",
   "execution_count": 12,
   "id": "cf2f64bf-cf72-4836-9c19-73a06140caaf",
   "metadata": {},
   "outputs": [
    {
     "name": "stdout",
     "output_type": "stream",
     "text": [
      "\n",
      "Category: Position\n"
     ]
    }
   ],
   "source": [
    "print()\n",
    "print(\"Category: Furniture\" if final_score_f > final_score_p else \"Category: Position\")"
   ]
  },
  {
   "cell_type": "code",
   "execution_count": null,
   "id": "d0449f1c-71db-49a6-80a3-920a16412f3f",
   "metadata": {},
   "outputs": [],
   "source": []
  }
 ],
 "metadata": {
  "kernelspec": {
   "display_name": "Python 3 (ipykernel)",
   "language": "python",
   "name": "python3"
  },
  "language_info": {
   "codemirror_mode": {
    "name": "ipython",
    "version": 3
   },
   "file_extension": ".py",
   "mimetype": "text/x-python",
   "name": "python",
   "nbconvert_exporter": "python",
   "pygments_lexer": "ipython3",
   "version": "3.11.5"
  }
 },
 "nbformat": 4,
 "nbformat_minor": 5
}
