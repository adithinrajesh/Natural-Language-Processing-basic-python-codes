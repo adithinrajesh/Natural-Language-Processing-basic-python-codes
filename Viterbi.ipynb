{
 "cells": [
  {
   "cell_type": "code",
   "execution_count": 13,
   "id": "a726f5d7-ade2-459a-be1c-1b06992d1be1",
   "metadata": {},
   "outputs": [
    {
     "name": "stdout",
     "output_type": "stream",
     "text": [
      "Viterbi algorithmic procedure:\n",
      "\n"
     ]
    },
    {
     "name": "stdin",
     "output_type": "stream",
     "text": [
      "Enter the number of states:  2\n"
     ]
    },
    {
     "name": "stdout",
     "output_type": "stream",
     "text": [
      "\n",
      "Initial probability for each state:\n",
      "\n"
     ]
    },
    {
     "name": "stdin",
     "output_type": "stream",
     "text": [
      "Enter initial probability for state 0:  1\n",
      "Enter the state name for state 0:  cp\n",
      "Enter initial probability for state 1:  0\n",
      "Enter the state name for state 1:  ip\n"
     ]
    },
    {
     "name": "stdout",
     "output_type": "stream",
     "text": [
      "{0: 1.0, 1: 0.0}\n"
     ]
    }
   ],
   "source": [
    "print(\"Viterbi algorithmic procedure:\\n\")\n",
    "\n",
    "n = int(input(\"Enter the number of states: \"))  # STATES ARE CONSIDERED AS INTEGERS\n",
    "print(\"\\nInitial probability for each state:\\n\")\n",
    "\n",
    "prob = {}\n",
    "state_name = {}  # ie. 0->x, 1->y, 2->z\n",
    "\n",
    "for i in range(n):  # in this example 0->x, 1->y, 2->z\n",
    "    prob[i] = float(input(\"Enter initial probability for state {}: \".format(i)))\n",
    "    s = input(\"Enter the state name for state {}: \".format(i))\n",
    "    state_name[i] = s\n",
    "\n",
    "print(prob)\n"
   ]
  },
  {
   "cell_type": "code",
   "execution_count": 14,
   "id": "f7a764c6-f54b-4dca-b215-bfb7e52fa5f2",
   "metadata": {},
   "outputs": [
    {
     "name": "stdin",
     "output_type": "stream",
     "text": [
      "Enter the output sequence (separate values with spaces):  lemonade ice-tea cola\n"
     ]
    },
    {
     "name": "stdout",
     "output_type": "stream",
     "text": [
      "\n",
      "Output sequence: lemonade ice-tea cola\n"
     ]
    }
   ],
   "source": [
    "output = input(\"Enter the output sequence (separate values with spaces): \")\n",
    "print(\"\\nOutput sequence:\", output)\n",
    "out = output.split()"
   ]
  },
  {
   "cell_type": "code",
   "execution_count": 15,
   "id": "1dfb64dd-30b0-4071-9613-e737e6b0fb52",
   "metadata": {},
   "outputs": [
    {
     "name": "stdout",
     "output_type": "stream",
     "text": [
      "\n",
      "State EMISSION schema:\n",
      "\n"
     ]
    },
    {
     "name": "stdin",
     "output_type": "stream",
     "text": [
      "Enter the emission states (columns for emission matrix):  cola ice-tea lemonade\n"
     ]
    },
    {
     "name": "stdout",
     "output_type": "stream",
     "text": [
      "\n",
      "Output emissions: cola ice-tea lemonade\n",
      "\n",
      "Possible emissions: 6\n"
     ]
    },
    {
     "name": "stdin",
     "output_type": "stream",
     "text": [
      "Enter the emission probability for sequence cola and state cp:  0.6\n",
      "Enter the emission probability for sequence ice-tea and state cp:  0.1\n",
      "Enter the emission probability for sequence lemonade and state cp:  0.3\n",
      "Enter the emission probability for sequence cola and state ip:  0.1\n",
      "Enter the emission probability for sequence ice-tea and state ip:  0.7\n",
      "Enter the emission probability for sequence lemonade and state ip:  0.2\n"
     ]
    },
    {
     "name": "stdout",
     "output_type": "stream",
     "text": [
      "{(0, 'cola'): 0.6, (0, 'ice-tea'): 0.1, (0, 'lemonade'): 0.3, (1, 'cola'): 0.1, (1, 'ice-tea'): 0.7, (1, 'lemonade'): 0.2}\n"
     ]
    }
   ],
   "source": [
    "print(\"\\nState EMISSION schema:\\n\")\n",
    "\n",
    "output1 = input(\"Enter the emission states (columns for emission matrix): \")\n",
    "print(\"\\nOutput emissions:\", output1)\n",
    "out1 = output1.split()\n",
    "p = n * len(out1)\n",
    "print(\"\\nPossible emissions:\", p)\n",
    "\n",
    "emit = {}\n",
    "for i in range(n):\n",
    "    for j in out1:\n",
    "        emit[i, j] = float(input(\"Enter the emission probability for sequence {} and state {}: \".format(j, state_name[i])))\n",
    "\n",
    "print(emit)"
   ]
  },
  {
   "cell_type": "code",
   "execution_count": 16,
   "id": "31b6a7dc-fa8f-41af-bdd1-3fb97f48451c",
   "metadata": {},
   "outputs": [
    {
     "name": "stdout",
     "output_type": "stream",
     "text": [
      "\n",
      "State Transition Schema:\n",
      "\n",
      "\n",
      "Number of transitions for the given state: 4\n"
     ]
    },
    {
     "name": "stdin",
     "output_type": "stream",
     "text": [
      "Enter the transition probability from state cp to state cp:  0.7\n",
      "Enter the transition probability from state cp to state ip:  0.3\n",
      "Enter the transition probability from state ip to state cp:  0.5\n",
      "Enter the transition probability from state ip to state ip:  0.5\n"
     ]
    },
    {
     "name": "stdout",
     "output_type": "stream",
     "text": [
      "{(0, 0): 0.7, (0, 1): 0.3, (1, 0): 0.5, (1, 1): 0.5}\n"
     ]
    }
   ],
   "source": [
    "print(\"\\nState Transition Schema:\\n\")\n",
    "\n",
    "t = n**2\n",
    "print(\"\\nNumber of transitions for the given state:\", t)\n",
    "\n",
    "transition = {}\n",
    "for i in range(n):\n",
    "    for j in range(n):\n",
    "        transition[i, j] = float(input(\"Enter the transition probability from state {} to state {}: \".format(state_name[i], state_name[j])))\n",
    "\n",
    "print(transition)\n"
   ]
  },
  {
   "cell_type": "code",
   "execution_count": 17,
   "id": "c3b135ea-77d7-4441-8e21-4f0ac6f81f0e",
   "metadata": {},
   "outputs": [
    {
     "name": "stdout",
     "output_type": "stream",
     "text": [
      "[1.0, 0.0]\n"
     ]
    }
   ],
   "source": [
    "delta = [[]]\n",
    "for i in range(n):\n",
    "    delta[0].append(prob[i])\n",
    "print(delta[0])"
   ]
  },
  {
   "cell_type": "code",
   "execution_count": 18,
   "id": "2b8dc94f-0c34-4074-bdf0-8e3e80b10c78",
   "metadata": {},
   "outputs": [
    {
     "name": "stdout",
     "output_type": "stream",
     "text": [
      "[0, 0]\n"
     ]
    }
   ],
   "source": [
    "init_prob_item = list(prob.values())\n",
    "m = max(init_prob_item)\n",
    "v = init_prob_item.index(m)\n",
    "\n",
    "state_list = [v] * n\n",
    "print(state_list)"
   ]
  },
  {
   "cell_type": "code",
   "execution_count": 24,
   "id": "c0bd9aff-07a8-434b-93f3-968fbe52b275",
   "metadata": {},
   "outputs": [],
   "source": [
    "def max_state_addition(lists):\n",
    "    if lists:\n",
    "        value = max(lists)\n",
    "        state_list.append(lists.index(value))"
   ]
  },
  {
   "cell_type": "code",
   "execution_count": 28,
   "id": "e85f8ae7-2661-4377-9c08-88043cfa06c5",
   "metadata": {},
   "outputs": [],
   "source": [
    "def viterbi(n, out, transition, emit, delta):\n",
    "    maximum = []\n",
    "\n",
    "    for i in range(n):  # src state\n",
    "        lists = []\n",
    "        for j in range(n):  # dest state\n",
    "            value = delta[j] * emit[j, out] * transition[j, i]\n",
    "            lists.append(value)\n",
    "\n",
    "        max_state_addition(lists)\n",
    "        maximum.append(max(lists))\n",
    "\n",
    "    # Taking appropriate state and returning delta values\n",
    "    return maximum"
   ]
  },
  {
   "cell_type": "code",
   "execution_count": 29,
   "id": "646d0764-be2e-40a6-9689-406d20ce6d1e",
   "metadata": {},
   "outputs": [],
   "source": [
    "c = 0\n",
    "for i in out:\n",
    "    # print(\"\\n i:\", i)\n",
    "    new = viterbi(n, i, transition, emit, delta[c])\n",
    "    delta.append(new)\n",
    "    # print(c)\n",
    "    c += 1"
   ]
  },
  {
   "cell_type": "code",
   "execution_count": 30,
   "id": "88a1e172-35b3-434c-95e7-3de3f493d78c",
   "metadata": {},
   "outputs": [
    {
     "name": "stdout",
     "output_type": "stream",
     "text": [
      "[[1.0, 0.0], [0.21, 0.09], [0.0315, 0.0315], [0.013229999999999999, 0.00567]]\n"
     ]
    }
   ],
   "source": [
    "print(delta)"
   ]
  },
  {
   "cell_type": "code",
   "execution_count": 31,
   "id": "85249a7c-0131-446e-9cee-f1386d55ea23",
   "metadata": {},
   "outputs": [
    {
     "name": "stdout",
     "output_type": "stream",
     "text": [
      "[0, 0, 0, 0, 1, 1, 0, 0]\n"
     ]
    }
   ],
   "source": [
    "print(state_list)\n",
    "\n",
    "sequence_state1 = []\n",
    "sequence_state2 = []\n",
    "sequence_state3 = []"
   ]
  },
  {
   "cell_type": "code",
   "execution_count": 32,
   "id": "baaf0df0-4d0b-43c8-8dad-3633b8f547c2",
   "metadata": {},
   "outputs": [
    {
     "name": "stdout",
     "output_type": "stream",
     "text": [
      "[[1.0, 0], [0.21, 0], [0.0315, 1], [0.013229999999999999, 0]] \n",
      " [[0.0, 0], [0.09, 0], [0.0315, 1], [0.00567, 0]]\n"
     ]
    }
   ],
   "source": [
    "c = 0\n",
    "\n",
    "if len(delta[0]) == 2:\n",
    "    for i in delta:\n",
    "        sequence_state1.append([i[0], state_list[c]])\n",
    "        c += 1\n",
    "        sequence_state2.append([i[1], state_list[c]])\n",
    "        c += 1\n",
    "    # s[sequence_state1, sequence_state2]\n",
    "    print(sequence_state1, \"\\n\", sequence_state2)\n",
    "\n",
    "elif len(delta[0]) == 3:\n",
    "    for i in delta:\n",
    "        sequence_state1.append([i[0], state_list[c]])\n",
    "        c += 1\n",
    "        sequence_state2.append([i[1], state_list[c]])\n",
    "        c += 1\n",
    "        sequence_state3.append([i[2], state_list[c]])\n",
    "        c += 1\n",
    "    # s[sequence_state1, sequence_state2, sequence_state3]\n",
    "    print(sequence_state1, \"\\n\", sequence_state2, \"\\n\", sequence_state3)\n"
   ]
  },
  {
   "cell_type": "code",
   "execution_count": null,
   "id": "fc3efa34-1976-45d3-8ee9-64f1270a40f8",
   "metadata": {},
   "outputs": [],
   "source": [
    "best_seq_rev = []\n"
   ]
  }
 ],
 "metadata": {
  "kernelspec": {
   "display_name": "Python 3 (ipykernel)",
   "language": "python",
   "name": "python3"
  },
  "language_info": {
   "codemirror_mode": {
    "name": "ipython",
    "version": 3
   },
   "file_extension": ".py",
   "mimetype": "text/x-python",
   "name": "python",
   "nbconvert_exporter": "python",
   "pygments_lexer": "ipython3",
   "version": "3.11.5"
  }
 },
 "nbformat": 4,
 "nbformat_minor": 5
}
