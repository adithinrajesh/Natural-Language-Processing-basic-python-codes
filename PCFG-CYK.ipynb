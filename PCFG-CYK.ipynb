{
 "cells": [
  {
   "cell_type": "code",
   "execution_count": 1,
   "id": "590b51b2-4630-422c-9333-97ca54382804",
   "metadata": {},
   "outputs": [],
   "source": [
    "from nltk import PCFG, InsideChartParser\n",
    "import numpy as np\n",
    "import pandas as pd"
   ]
  },
  {
   "cell_type": "code",
   "execution_count": 3,
   "id": "e13573a5-3566-442d-aa74-7baaacc31eaf",
   "metadata": {},
   "outputs": [],
   "source": [
    "# Define a PCFG grammar\n",
    "grammar = PCFG.fromstring(\"\"\"\n",
    "S -> NP VP [1.0]\n",
    "VP -> V NP [0.7] | VP PP [0.3]\n",
    "NP -> Det N [0.5] | NP PP [0.2] | 'John' [0.3]\n",
    "PP -> P NP [1.0]\n",
    "V -> 'saw' [0.2] | 'ate' [0.8]\n",
    "Det -> 'the' [0.6] | 'a' [0.4]\n",
    "N -> 'man' [0.5] | 'telescope' [0.5]\n",
    "P -> 'with' [0.4] | 'in' [0.6]\n",
    "\"\"\")"
   ]
  },
  {
   "cell_type": "code",
   "execution_count": 4,
   "id": "707e4980-b18e-4e41-a428-9b8be497f196",
   "metadata": {},
   "outputs": [],
   "source": [
    "# Create a InsideChart parser\n",
    "parser = InsideChartParser(grammar)"
   ]
  },
  {
   "cell_type": "code",
   "execution_count": 6,
   "id": "8f2f44fb-790f-410c-8d5c-6a14fb91b548",
   "metadata": {},
   "outputs": [],
   "source": [
    "# Parse a sentence\n",
    "sentence = \"John saw a man with a telescope\"\n",
    "tokens = sentence.split()"
   ]
  },
  {
   "cell_type": "code",
   "execution_count": 8,
   "id": "f3a4e2bf-391b-402f-b49c-7315452fe9ea",
   "metadata": {},
   "outputs": [
    {
     "name": "stdout",
     "output_type": "stream",
     "text": [
      "(S\n",
      "  (NP John)\n",
      "  (VP\n",
      "    (VP (V saw) (NP (Det a) (N man)))\n",
      "    (PP (P with) (NP (Det a) (N telescope))))) (p=5.04e-05)\n",
      "(S\n",
      "  (NP John)\n",
      "  (VP\n",
      "    (V saw)\n",
      "    (NP\n",
      "      (NP (Det a) (N man))\n",
      "      (PP (P with) (NP (Det a) (N telescope)))))) (p=3.36e-05)\n"
     ]
    }
   ],
   "source": [
    "for tree in parser.parse(tokens):\n",
    "    print(tree)"
   ]
  },
  {
   "cell_type": "code",
   "execution_count": null,
   "id": "edf456a8-6704-4ce5-bc62-8bd72eb916aa",
   "metadata": {},
   "outputs": [],
   "source": []
  }
 ],
 "metadata": {
  "kernelspec": {
   "display_name": "Python 3 (ipykernel)",
   "language": "python",
   "name": "python3"
  },
  "language_info": {
   "codemirror_mode": {
    "name": "ipython",
    "version": 3
   },
   "file_extension": ".py",
   "mimetype": "text/x-python",
   "name": "python",
   "nbconvert_exporter": "python",
   "pygments_lexer": "ipython3",
   "version": "3.11.5"
  }
 },
 "nbformat": 4,
 "nbformat_minor": 5
}
