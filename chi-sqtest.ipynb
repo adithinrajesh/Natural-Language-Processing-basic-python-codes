{
 "cells": [
  {
   "cell_type": "code",
   "execution_count": 1,
   "id": "fb65b66a-4eec-4faa-b7f5-bc920bd3ed55",
   "metadata": {},
   "outputs": [],
   "source": [
    "import nltk"
   ]
  },
  {
   "cell_type": "code",
   "execution_count": 2,
   "id": "514d2e76-2eb5-4670-a7a6-bb87f0bd24b5",
   "metadata": {},
   "outputs": [
    {
     "name": "stdout",
     "output_type": "stream",
     "text": [
      "Natural Language Processing , enable non-subject matter experts to find answers to their questions . Natural Language Processing , analyze data from both structured and unstructured sources . Natural Language Processing , identify the root causes of your business problems . Natural Language Processing , discover your most profitable customers and understand the reasons behind it . Natural Language Processing , combines Artificial Intelligence AI and computational linguistics so that computers and humans can talk seamlessly .\n",
      "\n"
     ]
    }
   ],
   "source": [
    "#Read the file\n",
    "with open(\"webtext.txt\",\"r\") as f:\n",
    "    text = f.read()\n",
    "print(text)"
   ]
  },
  {
   "cell_type": "code",
   "execution_count": 3,
   "id": "35545703-86f0-41fa-b164-fd4f060dade3",
   "metadata": {},
   "outputs": [
    {
     "name": "stdout",
     "output_type": "stream",
     "text": [
      "['Natural', 'Language', 'Processing', ',', 'enable', 'non-subject', 'matter', 'experts', 'to', 'find', 'answers', 'to', 'their', 'questions', '.', 'Natural', 'Language', 'Processing', ',', 'analyze', 'data', 'from', 'both', 'structured', 'and', 'unstructured', 'sources', '.', 'Natural', 'Language', 'Processing', ',', 'identify', 'the', 'root', 'causes', 'of', 'your', 'business', 'problems', '.', 'Natural', 'Language', 'Processing', ',', 'discover', 'your', 'most', 'profitable', 'customers', 'and', 'understand', 'the', 'reasons', 'behind', 'it', '.', 'Natural', 'Language', 'Processing', ',', 'combines', 'Artificial', 'Intelligence', 'AI', 'and', 'computational', 'linguistics', 'so', 'that', 'computers', 'and', 'humans', 'can', 'talk', 'seamlessly', '.']\n"
     ]
    }
   ],
   "source": [
    "#tokenisation\n",
    "from nltk.tokenize import word_tokenize\n",
    "tokens = word_tokenize(text)\n",
    "print(tokens)"
   ]
  },
  {
   "cell_type": "code",
   "execution_count": 4,
   "id": "132ce18a-3f33-45b1-988f-bcd291528aa4",
   "metadata": {},
   "outputs": [
    {
     "name": "stdout",
     "output_type": "stream",
     "text": [
      "['Natural', 'Language', 'Processing', 'enable', 'non-subject', 'matter', 'experts', 'find', 'answers', 'questions', 'Natural', 'Language', 'Processing', 'analyze', 'data', 'structured', 'unstructured', 'sources', 'Natural', 'Language', 'Processing', 'identify', 'root', 'causes', 'business', 'problems', 'Natural', 'Language', 'Processing', 'discover', 'profitable', 'customers', 'understand', 'reasons', 'behind', 'Natural', 'Language', 'Processing', 'combines', 'Artificial', 'Intelligence', 'AI', 'computational', 'linguistics', 'computers', 'humans', 'talk', 'seamlessly']\n"
     ]
    }
   ],
   "source": [
    "#stop word removal\n",
    "import string\n",
    "from nltk.corpus import stopwords\n",
    "stop_words = set(stopwords.words('english'))\n",
    "fil_tokens = [word for word in tokens if (word not in stop_words and word not in string.punctuation)]\n",
    "print(fil_tokens)"
   ]
  },
  {
   "cell_type": "code",
   "execution_count": 5,
   "id": "db7a39ea-ff13-4e72-abdb-be4d68fd9d08",
   "metadata": {},
   "outputs": [],
   "source": [
    "from scipy.stats import chi2_contingency"
   ]
  },
  {
   "cell_type": "code",
   "execution_count": 9,
   "id": "7c1c13cc-6c26-4385-b876-bfbc23c41674",
   "metadata": {},
   "outputs": [],
   "source": [
    "def chi_square_test(w1, w2, fil_tokens):\n",
    "    # Create a contingency table\n",
    "    count_w1 = fil_tokens.count(w1)\n",
    "    count_w2 = fil_tokens.count(w2)\n",
    "    count_co_occurrence = sum(1 for i in range(len(fil_tokens) - 1) if fil_tokens[i] == w1 and fil_tokens[i+1] == w2)\n",
    "\n",
    "    contingency_table = [\n",
    "        [count_w1, count_w2],\n",
    "        [count_co_occurrence, 0]  # Assuming you want to count co-occurrences\n",
    "    ]\n",
    "\n",
    "    # Perform the chi-square test\n",
    "    chi2, p, _, _ = chi2_contingency(contingency_table)\n",
    "\n",
    "    return chi2, p"
   ]
  },
  {
   "cell_type": "code",
   "execution_count": 10,
   "id": "4bbec162-5621-482e-9feb-e05c977cd3ee",
   "metadata": {},
   "outputs": [],
   "source": [
    "def find_chi_square_collo(fil_tokens, alpha):\n",
    "    collo = set()\n",
    "\n",
    "    n = len(fil_tokens)\n",
    "\n",
    "    for i in range(n-1):\n",
    "        w1, w2 = fil_tokens[i], fil_tokens[i+1]\n",
    "\n",
    "        chi2, p_value = chi_square_test(w1, w2, fil_tokens)\n",
    "\n",
    "        print(f\"Testing collocation: {w1}, {w2}\")\n",
    "        print(\"Chi-square statistic =\", chi2)\n",
    "        print(\"P-value =\", p_value)\n",
    "\n",
    "        if p_value < alpha:\n",
    "            collo.add((w1, w2, chi2, p_value))\n",
    "\n",
    "    return collo"
   ]
  },
  {
   "cell_type": "code",
   "execution_count": 11,
   "id": "e82618c6-e221-4810-950a-bae2b0710cee",
   "metadata": {},
   "outputs": [
    {
     "name": "stdout",
     "output_type": "stream",
     "text": [
      "Testing collocation: Natural, Language\n",
      "Chi-square statistic = 1.8375\n",
      "P-value = 0.17524424540000227\n",
      "Testing collocation: Language, Processing\n",
      "Chi-square statistic = 1.8375\n",
      "P-value = 0.17524424540000227\n",
      "Testing collocation: Processing, enable\n",
      "Chi-square statistic = 0.0\n",
      "P-value = 1.0\n",
      "Testing collocation: enable, non-subject\n",
      "Chi-square statistic = 0.0\n",
      "P-value = 1.0\n",
      "Testing collocation: non-subject, matter\n",
      "Chi-square statistic = 0.0\n",
      "P-value = 1.0\n",
      "Testing collocation: matter, experts\n",
      "Chi-square statistic = 0.0\n",
      "P-value = 1.0\n",
      "Testing collocation: experts, find\n",
      "Chi-square statistic = 0.0\n",
      "P-value = 1.0\n",
      "Testing collocation: find, answers\n",
      "Chi-square statistic = 0.0\n",
      "P-value = 1.0\n",
      "Testing collocation: answers, questions\n",
      "Chi-square statistic = 0.0\n",
      "P-value = 1.0\n",
      "Testing collocation: questions, Natural\n",
      "Chi-square statistic = 0.2625\n",
      "P-value = 0.6084078002329983\n",
      "Testing collocation: Natural, Language\n",
      "Chi-square statistic = 1.8375\n",
      "P-value = 0.17524424540000227\n",
      "Testing collocation: Language, Processing\n",
      "Chi-square statistic = 1.8375\n",
      "P-value = 0.17524424540000227\n",
      "Testing collocation: Processing, analyze\n",
      "Chi-square statistic = 0.0\n",
      "P-value = 1.0\n",
      "Testing collocation: analyze, data\n",
      "Chi-square statistic = 0.0\n",
      "P-value = 1.0\n",
      "Testing collocation: data, structured\n",
      "Chi-square statistic = 0.0\n",
      "P-value = 1.0\n",
      "Testing collocation: structured, unstructured\n",
      "Chi-square statistic = 0.0\n",
      "P-value = 1.0\n",
      "Testing collocation: unstructured, sources\n",
      "Chi-square statistic = 0.0\n",
      "P-value = 1.0\n",
      "Testing collocation: sources, Natural\n",
      "Chi-square statistic = 0.2625\n",
      "P-value = 0.6084078002329983\n",
      "Testing collocation: Natural, Language\n",
      "Chi-square statistic = 1.8375\n",
      "P-value = 0.17524424540000227\n",
      "Testing collocation: Language, Processing\n",
      "Chi-square statistic = 1.8375\n",
      "P-value = 0.17524424540000227\n",
      "Testing collocation: Processing, identify\n",
      "Chi-square statistic = 0.0\n",
      "P-value = 1.0\n",
      "Testing collocation: identify, root\n",
      "Chi-square statistic = 0.0\n",
      "P-value = 1.0\n",
      "Testing collocation: root, causes\n",
      "Chi-square statistic = 0.0\n",
      "P-value = 1.0\n",
      "Testing collocation: causes, business\n",
      "Chi-square statistic = 0.0\n",
      "P-value = 1.0\n",
      "Testing collocation: business, problems\n",
      "Chi-square statistic = 0.0\n",
      "P-value = 1.0\n",
      "Testing collocation: problems, Natural\n",
      "Chi-square statistic = 0.2625\n",
      "P-value = 0.6084078002329983\n",
      "Testing collocation: Natural, Language\n",
      "Chi-square statistic = 1.8375\n",
      "P-value = 0.17524424540000227\n",
      "Testing collocation: Language, Processing\n",
      "Chi-square statistic = 1.8375\n",
      "P-value = 0.17524424540000227\n",
      "Testing collocation: Processing, discover\n",
      "Chi-square statistic = 0.0\n",
      "P-value = 1.0\n",
      "Testing collocation: discover, profitable\n",
      "Chi-square statistic = 0.0\n",
      "P-value = 1.0\n",
      "Testing collocation: profitable, customers\n",
      "Chi-square statistic = 0.0\n",
      "P-value = 1.0\n",
      "Testing collocation: customers, understand\n",
      "Chi-square statistic = 0.0\n",
      "P-value = 1.0\n",
      "Testing collocation: understand, reasons\n",
      "Chi-square statistic = 0.0\n",
      "P-value = 1.0\n",
      "Testing collocation: reasons, behind\n",
      "Chi-square statistic = 0.0\n",
      "P-value = 1.0\n",
      "Testing collocation: behind, Natural\n",
      "Chi-square statistic = 0.2625\n",
      "P-value = 0.6084078002329983\n",
      "Testing collocation: Natural, Language\n",
      "Chi-square statistic = 1.8375\n",
      "P-value = 0.17524424540000227\n",
      "Testing collocation: Language, Processing\n",
      "Chi-square statistic = 1.8375\n",
      "P-value = 0.17524424540000227\n",
      "Testing collocation: Processing, combines\n",
      "Chi-square statistic = 0.0\n",
      "P-value = 1.0\n",
      "Testing collocation: combines, Artificial\n",
      "Chi-square statistic = 0.0\n",
      "P-value = 1.0\n",
      "Testing collocation: Artificial, Intelligence\n",
      "Chi-square statistic = 0.0\n",
      "P-value = 1.0\n",
      "Testing collocation: Intelligence, AI\n",
      "Chi-square statistic = 0.0\n",
      "P-value = 1.0\n",
      "Testing collocation: AI, computational\n",
      "Chi-square statistic = 0.0\n",
      "P-value = 1.0\n",
      "Testing collocation: computational, linguistics\n",
      "Chi-square statistic = 0.0\n",
      "P-value = 1.0\n",
      "Testing collocation: linguistics, computers\n",
      "Chi-square statistic = 0.0\n",
      "P-value = 1.0\n",
      "Testing collocation: computers, humans\n",
      "Chi-square statistic = 0.0\n",
      "P-value = 1.0\n",
      "Testing collocation: humans, talk\n",
      "Chi-square statistic = 0.0\n",
      "P-value = 1.0\n",
      "Testing collocation: talk, seamlessly\n",
      "Chi-square statistic = 0.0\n",
      "P-value = 1.0\n"
     ]
    }
   ],
   "source": [
    "alpha = 0.5\n",
    "chi_square_collo = find_chi_square_collo(fil_tokens, alpha)"
   ]
  },
  {
   "cell_type": "code",
   "execution_count": 12,
   "id": "463ca75b-11bb-44dc-9572-bafd753e19e6",
   "metadata": {},
   "outputs": [
    {
     "name": "stdout",
     "output_type": "stream",
     "text": [
      "\n",
      "Collocations = Language Processing\n",
      "Chi-square statistic = 1.8375\n",
      "P-value = 0.17524424540000227\n",
      "\n",
      "\n",
      "Collocations = Natural Language\n",
      "Chi-square statistic = 1.8375\n",
      "P-value = 0.17524424540000227\n",
      "\n"
     ]
    }
   ],
   "source": [
    "if chi_square_collo:\n",
    "    for col in chi_square_collo:\n",
    "        print()\n",
    "        print(\"Collocations =\", col[0], col[1])\n",
    "        print(\"Chi-square statistic =\", col[2])\n",
    "        print(\"P-value =\", col[3])\n",
    "        print()\n",
    "else:\n",
    "    print(\"No significant collocations found.\")\n"
   ]
  },
  {
   "cell_type": "code",
   "execution_count": null,
   "id": "1b65259b-44ba-4675-961c-bc95309e6ec1",
   "metadata": {},
   "outputs": [],
   "source": []
  }
 ],
 "metadata": {
  "kernelspec": {
   "display_name": "Python 3 (ipykernel)",
   "language": "python",
   "name": "python3"
  },
  "language_info": {
   "codemirror_mode": {
    "name": "ipython",
    "version": 3
   },
   "file_extension": ".py",
   "mimetype": "text/x-python",
   "name": "python",
   "nbconvert_exporter": "python",
   "pygments_lexer": "ipython3",
   "version": "3.11.5"
  }
 },
 "nbformat": 4,
 "nbformat_minor": 5
}
