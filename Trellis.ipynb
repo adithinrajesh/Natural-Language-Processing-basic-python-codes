{
 "cells": [
  {
   "cell_type": "code",
   "execution_count": 1,
   "id": "67eafef5-d67c-48ba-9400-cb8de0d91625",
   "metadata": {},
   "outputs": [
    {
     "name": "stdout",
     "output_type": "stream",
     "text": [
      "Trellis algorithmic procedure:\n",
      "\n"
     ]
    },
    {
     "name": "stdin",
     "output_type": "stream",
     "text": [
      "Enter the number of states:  2\n"
     ]
    },
    {
     "name": "stdout",
     "output_type": "stream",
     "text": [
      "\n",
      "Initial probability for each state:\n",
      "\n"
     ]
    },
    {
     "name": "stdin",
     "output_type": "stream",
     "text": [
      "Enter initial probability for state 0:  1\n",
      "Enter the state name for state 0:  cp\n",
      "Enter initial probability for state 1:  0\n",
      "Enter the state name for state 1:  ip\n"
     ]
    },
    {
     "name": "stdout",
     "output_type": "stream",
     "text": [
      "\n",
      "Probability dictionary:\n",
      "{0: 1.0, 1: 0.0}\n",
      "\n",
      "State names dictionary:\n",
      "{0: 'cp', 1: 'ip'}\n"
     ]
    }
   ],
   "source": [
    "print(\"Trellis algorithmic procedure:\\n\")\n",
    "\n",
    "n = int(input(\"Enter the number of states: \"))\n",
    "\n",
    "# States are considered as integers [0, n-1]\n",
    "print(\"\\nInitial probability for each state:\\n\")\n",
    "prob = {}\n",
    "state_name = {}\n",
    "\n",
    "for i in range(n):\n",
    "    prob[i] = float(input(f\"Enter initial probability for state {i}: \"))\n",
    "    s = input(f\"Enter the state name for state {i}: \")\n",
    "    state_name[i] = s\n",
    "\n",
    "print(\"\\nProbability dictionary:\")\n",
    "print(prob)\n",
    "print(\"\\nState names dictionary:\")\n",
    "print(state_name)"
   ]
  },
  {
   "cell_type": "code",
   "execution_count": 2,
   "id": "f207f84b-3604-4535-99ea-91f750161539",
   "metadata": {},
   "outputs": [
    {
     "name": "stdin",
     "output_type": "stream",
     "text": [
      "Enter the output sequence (space-separated):  lemonade ice-tea cola\n"
     ]
    },
    {
     "name": "stdout",
     "output_type": "stream",
     "text": [
      "\n",
      "Output sequence: lemonade ice-tea cola\n",
      "Split elements: ['lemonade', 'ice-tea', 'cola']\n"
     ]
    }
   ],
   "source": [
    "output = input(\"Enter the output sequence (space-separated): \")\n",
    "print(\"\\nOutput sequence:\", output)\n",
    "\n",
    "out = output.split()\n",
    "print(\"Split elements:\", out)"
   ]
  },
  {
   "cell_type": "code",
   "execution_count": 3,
   "id": "1e5576a2-3895-4b60-baa7-00d012bb5126",
   "metadata": {},
   "outputs": [
    {
     "name": "stdout",
     "output_type": "stream",
     "text": [
      "\n",
      "State EMISSION schema:\n",
      "\n"
     ]
    },
    {
     "name": "stdin",
     "output_type": "stream",
     "text": [
      "Enter the emission states (space-separated):  cola ice-tea lemonade\n"
     ]
    },
    {
     "name": "stdout",
     "output_type": "stream",
     "text": [
      "\n",
      "Output emissions: cola ice-tea lemonade\n",
      "\n",
      "Possible emissions: 6\n",
      "\n",
      "Enter emission probabilities for state 0:\n",
      "\n"
     ]
    },
    {
     "name": "stdin",
     "output_type": "stream",
     "text": [
      "Enter the emission probability for sequence cola and state 0:  0.6\n",
      "Enter the emission probability for sequence ice-tea and state 0:  0.1\n",
      "Enter the emission probability for sequence lemonade and state 0:  0.3\n"
     ]
    },
    {
     "name": "stdout",
     "output_type": "stream",
     "text": [
      "\n",
      "Enter emission probabilities for state 1:\n",
      "\n"
     ]
    },
    {
     "name": "stdin",
     "output_type": "stream",
     "text": [
      "Enter the emission probability for sequence cola and state 1:  0.1\n",
      "Enter the emission probability for sequence ice-tea and state 1:  0.7\n",
      "Enter the emission probability for sequence lemonade and state 1:  0.2\n"
     ]
    },
    {
     "name": "stdout",
     "output_type": "stream",
     "text": [
      "\n",
      "Emission matrix:\n",
      "{0: {'cola': 0.6, 'ice-tea': 0.1, 'lemonade': 0.3}, 1: {'cola': 0.1, 'ice-tea': 0.7, 'lemonade': 0.2}}\n"
     ]
    }
   ],
   "source": [
    "print(\"\\nState EMISSION schema:\\n\")\n",
    "\n",
    "# Assuming n is defined before this point\n",
    "output1 = input(\"Enter the emission states (space-separated): \")\n",
    "print(\"\\nOutput emissions:\", output1)\n",
    "\n",
    "out1_emit = output1.split()\n",
    "p = n * len(out1_emit)\n",
    "print(\"\\nPossible emissions:\", p)\n",
    "\n",
    "emit = {}\n",
    "\n",
    "for i in range(n):\n",
    "    emit[i] = {}\n",
    "    print(f\"\\nEnter emission probabilities for state {i}:\\n\")\n",
    "\n",
    "    for j in out1_emit:\n",
    "        emit[i][j] = float(input(f\"Enter the emission probability for sequence {j} and state {i}: \"))\n",
    "\n",
    "print(\"\\nEmission matrix:\")\n",
    "print(emit)"
   ]
  },
  {
   "cell_type": "code",
   "execution_count": 5,
   "id": "f4b4436e-cf58-4d35-956d-c7a719f103c0",
   "metadata": {},
   "outputs": [
    {
     "name": "stdout",
     "output_type": "stream",
     "text": [
      "\n",
      "State Transition Schema:\n",
      "\n",
      "\n",
      "Number of transitions for given states: 4\n"
     ]
    },
    {
     "name": "stdin",
     "output_type": "stream",
     "text": [
      "Enter the transition probability for state 0 to state 0:  0.7\n",
      "Enter the transition probability for state 0 to state 1:  0.3\n",
      "Enter the transition probability for state 1 to state 0:  0.5\n",
      "Enter the transition probability for state 1 to state 1:  0.5\n"
     ]
    },
    {
     "name": "stdout",
     "output_type": "stream",
     "text": [
      "\n",
      "Transition matrix:\n",
      "{0: {0: 0.7, 1: 0.3}, 1: {0: 0.5, 1: 0.5}}\n"
     ]
    }
   ],
   "source": [
    "print(\"\\nState Transition Schema:\\n\")\n",
    "\n",
    "# Assuming n is defined before this point\n",
    "t = n ** 2\n",
    "print(\"\\nNumber of transitions for given states:\", t)\n",
    "\n",
    "transition = {}\n",
    "\n",
    "for i in range(n):\n",
    "    transition[i] = {}\n",
    "\n",
    "    for j in range(n):\n",
    "        transition[i][j] = float(input(f\"Enter the transition probability for state {i} to state {j}: \"))\n",
    "\n",
    "print(\"\\nTransition matrix:\")\n",
    "print(transition)"
   ]
  },
  {
   "cell_type": "code",
   "execution_count": 6,
   "id": "517deb3e-88eb-4cf3-96bc-a6fa9c5b7a37",
   "metadata": {},
   "outputs": [
    {
     "name": "stdout",
     "output_type": "stream",
     "text": [
      "Initial probabilities (alpha[0]): [1.0, 0.0]\n"
     ]
    }
   ],
   "source": [
    "alpha = [[]]\n",
    "beta = [[]]\n",
    "\n",
    "for i in range(n):\n",
    "    alpha[0].extend([prob[i]])\n",
    "    beta[0].extend([1])\n",
    "\n",
    "print(\"Initial probabilities (alpha[0]):\", alpha[0])"
   ]
  },
  {
   "cell_type": "code",
   "execution_count": 7,
   "id": "41801b44-f343-48f1-98c6-bafd2149e636",
   "metadata": {},
   "outputs": [],
   "source": [
    "gamma = []"
   ]
  },
  {
   "cell_type": "code",
   "execution_count": 8,
   "id": "8b0d7a12-808a-4dd5-a62b-fb8ed6ede9b1",
   "metadata": {},
   "outputs": [],
   "source": [
    "def trellis_forward(n, out, transition, emit, alpha):\n",
    "    alp = []\n",
    "    lists = []\n",
    "\n",
    "    for i in range(n):  # src state\n",
    "        for j in range(n):  # dest state\n",
    "            value = alpha[j] * emit[j][out] * transition[j][i]\n",
    "            lists.append(value)\n",
    "\n",
    "        if len(lists) == 2:\n",
    "            alp.append(lists[0] + lists[1])\n",
    "            lists = []\n",
    "        elif len(lists) == 3:\n",
    "            alp.append(lists[0] + lists[1] + lists[2])\n",
    "            lists = []\n",
    "\n",
    "    return alp"
   ]
  },
  {
   "cell_type": "code",
   "execution_count": 9,
   "id": "e041cb64-a68c-4180-9f75-a7b48f445b39",
   "metadata": {},
   "outputs": [
    {
     "name": "stdout",
     "output_type": "stream",
     "text": [
      "[[1.0, 0.0], [0.21, 0.09], [0.0462, 0.0378], [0.021293999999999997, 0.010206]]\n"
     ]
    }
   ],
   "source": [
    "c = 0\n",
    "for i in out:\n",
    "    new = trellis_forward(n, i, transition, emit, alpha[c])\n",
    "    alpha.append(new)\n",
    "    c += 1\n",
    "\n",
    "print(alpha)"
   ]
  },
  {
   "cell_type": "code",
   "execution_count": 10,
   "id": "6fe12032-09d4-45dd-8ef7-78a5deb30c83",
   "metadata": {},
   "outputs": [
    {
     "name": "stdout",
     "output_type": "stream",
     "text": [
      "['cola', 'ice-tea', 'lemonade']\n"
     ]
    }
   ],
   "source": [
    "def rev(lis):\n",
    "    return lis[::-1]\n",
    "\n",
    "out = rev(out)\n",
    "print(out)"
   ]
  },
  {
   "cell_type": "code",
   "execution_count": 11,
   "id": "7416a2bb-aa0f-4dba-b246-02f744c36e1b",
   "metadata": {},
   "outputs": [],
   "source": [
    "def trellis_backward(n, out, transition, emit, beta):\n",
    "    lists = []\n",
    "    beta1 = []\n",
    "\n",
    "    for i in range(n):  # src state\n",
    "        for j in range(n):  # dest state\n",
    "            value = beta[j] * emit[i][out] * transition[i][j]\n",
    "            lists.append(value)\n",
    "\n",
    "        if len(lists) == 2:\n",
    "            beta1.append(lists[0] + lists[1])\n",
    "            lists = []\n",
    "        elif len(lists) == 3:\n",
    "            beta1.append(lists[0] + lists[1] + lists[2])\n",
    "            lists = []\n",
    "\n",
    "    return beta1\n"
   ]
  },
  {
   "cell_type": "code",
   "execution_count": 12,
   "id": "ee909e7f-1d88-4ba8-8ef1-090ea57c136f",
   "metadata": {},
   "outputs": [
    {
     "name": "stdout",
     "output_type": "stream",
     "text": [
      "\n",
      "Beta: [[1, 1], [0.6, 0.1], [0.045, 0.245], [0.0315, 0.029]]\n"
     ]
    }
   ],
   "source": [
    "c = 0\n",
    "for i in out:\n",
    "    new = trellis_backward(n, i, transition, emit, beta[c])\n",
    "    beta.append(new)\n",
    "    c += 1\n",
    "\n",
    "print(\"\\nBeta:\", beta)"
   ]
  },
  {
   "cell_type": "code",
   "execution_count": 13,
   "id": "ba93c2f9-edb9-4564-84e9-c76c956d7251",
   "metadata": {},
   "outputs": [
    {
     "name": "stdout",
     "output_type": "stream",
     "text": [
      "\n",
      "Probability of the forward sequence: 0.0315\n",
      "Probability of the backward sequence: 0.0315\n"
     ]
    }
   ],
   "source": [
    "a = alpha[-1]\n",
    "prob_forward_seq = sum(a)\n",
    "\n",
    "b = beta[-1]\n",
    "c = alpha[0]\n",
    "\n",
    "prob_backward_seq = sum(b[i] * c[i] for i in range(len(b)))\n",
    "\n",
    "print(\"\\nProbability of the forward sequence:\", prob_forward_seq)\n",
    "print(\"Probability of the backward sequence:\", prob_backward_seq)"
   ]
  },
  {
   "cell_type": "code",
   "execution_count": null,
   "id": "29d6bc67-651b-4299-80a0-f5beadb01aa0",
   "metadata": {},
   "outputs": [],
   "source": []
  }
 ],
 "metadata": {
  "kernelspec": {
   "display_name": "Python 3 (ipykernel)",
   "language": "python",
   "name": "python3"
  },
  "language_info": {
   "codemirror_mode": {
    "name": "ipython",
    "version": 3
   },
   "file_extension": ".py",
   "mimetype": "text/x-python",
   "name": "python",
   "nbconvert_exporter": "python",
   "pygments_lexer": "ipython3",
   "version": "3.11.5"
  }
 },
 "nbformat": 4,
 "nbformat_minor": 5
}
