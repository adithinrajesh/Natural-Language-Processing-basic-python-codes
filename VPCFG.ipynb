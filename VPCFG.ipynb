{
 "cells": [
  {
   "cell_type": "code",
   "execution_count": 1,
   "id": "141fd4cb-688b-46d2-9b64-ecb3d50a4d48",
   "metadata": {},
   "outputs": [],
   "source": [
    "import nltk\n",
    "from nltk.grammar import PCFG\n",
    "from nltk.parse.viterbi import ViterbiParser\n",
    "from nltk.tree import Tree"
   ]
  },
  {
   "cell_type": "code",
   "execution_count": 4,
   "id": "400a47ab-1871-4c96-ba64-d27197ad2a97",
   "metadata": {},
   "outputs": [],
   "source": [
    "# Define a probabilistic context-free grammar\n",
    "grammar = PCFG.fromstring(\"\"\"\n",
    "    S -> NP VP [1.0]\n",
    "    PP -> P NP [1.0]\n",
    "    VP -> V NP [0.7] | VP PP [0.3]\n",
    "    P -> 'with' [1.0]\n",
    "    V -> 'saw' [1.0]\n",
    "    NP -> NP PP [0.4] | 'astronomers' [0.1] | 'ears' [0.18] | 'saw' [0.04] | 'stars' [0.18] | 'telescopes\n",
    "\"\"\")"
   ]
  },
  {
   "cell_type": "code",
   "execution_count": 5,
   "id": "0af8baee-c04e-47b0-a347-08982186f513",
   "metadata": {},
   "outputs": [],
   "source": [
    "# Create a Viterbi parser\n",
    "parser = ViterbiParser(grammar)"
   ]
  },
  {
   "cell_type": "code",
   "execution_count": 6,
   "id": "8528f19c-7ce5-43cc-8068-26bf04433951",
   "metadata": {},
   "outputs": [],
   "source": [
    "# Define the input sentence\n",
    "sentence = \"astronomers saw stars with ears\""
   ]
  },
  {
   "cell_type": "code",
   "execution_count": 7,
   "id": "f58269f3-7cd8-4e52-a331-8c91531c28e4",
   "metadata": {},
   "outputs": [],
   "source": [
    "# Tokenize the sentence\n",
    "tokens = sentence.split()"
   ]
  },
  {
   "cell_type": "code",
   "execution_count": 8,
   "id": "7d8a39f0-59f4-4af4-9a3c-9b5cadca5f76",
   "metadata": {},
   "outputs": [
    {
     "name": "stdout",
     "output_type": "stream",
     "text": [
      "No parse tree found for the sentence.\n"
     ]
    }
   ],
   "source": [
    "# Parse the sentence and get the most likely parse tree\n",
    "try:\n",
    "    for tree in parser.parse(tokens):\n",
    "        tree.pretty_print()\n",
    "except ValueError:\n",
    "    print(\"No parse tree found for the sentence.\")"
   ]
  },
  {
   "cell_type": "code",
   "execution_count": null,
   "id": "d8360030-db41-47b9-a4f8-77b27c75ce22",
   "metadata": {},
   "outputs": [],
   "source": []
  }
 ],
 "metadata": {
  "kernelspec": {
   "display_name": "Python 3 (ipykernel)",
   "language": "python",
   "name": "python3"
  },
  "language_info": {
   "codemirror_mode": {
    "name": "ipython",
    "version": 3
   },
   "file_extension": ".py",
   "mimetype": "text/x-python",
   "name": "python",
   "nbconvert_exporter": "python",
   "pygments_lexer": "ipython3",
   "version": "3.11.5"
  }
 },
 "nbformat": 4,
 "nbformat_minor": 5
}
