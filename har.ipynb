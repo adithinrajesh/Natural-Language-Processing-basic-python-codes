{
 "cells": [
  {
   "cell_type": "code",
   "execution_count": 1,
   "id": "03890311-6f61-4a07-bbfb-2d6712ed1457",
   "metadata": {},
   "outputs": [],
   "source": [
    "import math\n",
    "from nltk.tokenize import word_tokenize\n",
    "from nltk import bigrams"
   ]
  },
  {
   "cell_type": "code",
   "execution_count": 4,
   "id": "5d5c2a6a-8e52-4c55-98c3-73f658e96ed7",
   "metadata": {},
   "outputs": [],
   "source": [
    "def read_corpus(file_path):\n",
    "    try:\n",
    "        with open(file_path, 'r') as file:\n",
    "            return file.read()\n",
    "    except FileNotFoundError:\n",
    "        print(f\"Error: File '{file_path}' not found.\")\n",
    "        return None"
   ]
  },
  {
   "cell_type": "code",
   "execution_count": 5,
   "id": "0399a006-746c-4145-9acd-e1937b207fa6",
   "metadata": {},
   "outputs": [],
   "source": [
    "corpus = read_corpus(\"corp.txt\")"
   ]
  },
  {
   "cell_type": "code",
   "execution_count": 6,
   "id": "180d918a-1392-4d93-803e-198fc26f2d62",
   "metadata": {},
   "outputs": [],
   "source": [
    "def tokenize_corpus(corpus):\n",
    "    return word_tokenize(corpus.lower())"
   ]
  },
  {
   "cell_type": "code",
   "execution_count": 7,
   "id": "18c8e2a4-fa49-4c3b-ac74-35e6a54acb48",
   "metadata": {},
   "outputs": [],
   "source": [
    "def count_elements(tokens):\n",
    "    element_counts = {}\n",
    "    for element in tokens:\n",
    "        element_counts[element] = element_counts.get(element, 0) + 1\n",
    "    return element_counts"
   ]
  },
  {
   "cell_type": "code",
   "execution_count": 8,
   "id": "56e56613-aafa-4096-9d7a-f1687e096c11",
   "metadata": {},
   "outputs": [],
   "source": [
    "def generate_bigrams(tokens):\n",
    "    return list(bigrams(tokens))"
   ]
  },
  {
   "cell_type": "code",
   "execution_count": 9,
   "id": "8398ed39-8a71-4897-93ae-ae5927ad2636",
   "metadata": {},
   "outputs": [],
   "source": [
    "def count_bigrams(bigrams_list):\n",
    "    bigram_counts = {}\n",
    "    for bigram in bigrams_list:\n",
    "        bigram_counts[bigram] = bigram_counts.get(bigram, 0) + 1\n",
    "    return bigram_counts"
   ]
  },
  {
   "cell_type": "code",
   "execution_count": 10,
   "id": "699d20e2-a515-4284-ae21-1ee7930d09a2",
   "metadata": {},
   "outputs": [],
   "source": [
    "def get_user_input(prompt):\n",
    "    return input(prompt).lower()"
   ]
  },
  {
   "cell_type": "code",
   "execution_count": 11,
   "id": "778dce65-9abf-4551-82f2-7f998c22115f",
   "metadata": {},
   "outputs": [],
   "source": [
    "def calculate_probability(p_v, p_n, v, n):\n",
    "    prob_v = p_v / v if v > 0 else 0\n",
    "    prob_n = p_n / n if n > 0 else 0\n",
    "    return prob_v, prob_n"
   ]
  },
  {
   "cell_type": "code",
   "execution_count": 12,
   "id": "e2179978-3cbc-4b9d-822f-9bc6d4351439",
   "metadata": {},
   "outputs": [],
   "source": [
    "def calculate_lambda(prob_v, prob_n):\n",
    "    if prob_n == 0:\n",
    "        return float('inf')  # Return positive infinity to indicate division by zero\n",
    "    _lambda = math.log((prob_v * (1 - prob_n)) / prob_n, 2)\n",
    "    return _lambda"
   ]
  },
  {
   "cell_type": "code",
   "execution_count": 13,
   "id": "64818c62-5be6-444c-963d-22af0212cb49",
   "metadata": {},
   "outputs": [],
   "source": [
    "def determine_attachment(_lambda):\n",
    "    if _lambda > 0:\n",
    "        return \"The Preposition is attached with Verb.\"\n",
    "    elif _lambda < 0:\n",
    "        return \"The Preposition is attached with Noun.\"\n",
    "    else:\n",
    "        return \"The Preposition attachment cannot be determined.\""
   ]
  },
  {
   "cell_type": "code",
   "execution_count": 14,
   "id": "c9e8161c-6dfe-42e8-995d-7cda0333a3f1",
   "metadata": {},
   "outputs": [],
   "source": [
    "def main():\n",
    "    if corpus:\n",
    "        tokens = tokenize_corpus(corpus)\n",
    "        element_counts = count_elements(tokens)\n",
    "        bigrams_list = generate_bigrams(tokens)\n",
    "        bigram_counts = count_bigrams(bigrams_list)\n",
    "\n",
    "        noun = get_user_input(\"Enter the Noun: \")\n",
    "        verb = get_user_input(\"Enter the Verb: \")\n",
    "        prep = get_user_input(\"Enter the Preposition: \")\n",
    "\n",
    "        n = element_counts.get(noun, 0)\n",
    "        v = element_counts.get(verb, 0)\n",
    "        p_n = bigram_counts.get((prep, noun), 0)\n",
    "        p_v = bigram_counts.get((prep, verb), 0)\n",
    "\n",
    "        prob_v, prob_n = calculate_probability(p_v, p_n, v, n)\n",
    "        _lambda = calculate_lambda(prob_v, prob_n)\n",
    "\n",
    "        result = determine_attachment(_lambda)\n",
    "        print(result)"
   ]
  },
  {
   "cell_type": "code",
   "execution_count": 15,
   "id": "f1747e6e-8de4-4400-ba4f-8cfb5b8f3c35",
   "metadata": {},
   "outputs": [
    {
     "name": "stdin",
     "output_type": "stream",
     "text": [
      "Enter the Noun:  city\n",
      "Enter the Verb:  walked\n",
      "Enter the Preposition:  down\n"
     ]
    },
    {
     "name": "stdout",
     "output_type": "stream",
     "text": [
      "The Preposition is attached with Verb.\n"
     ]
    }
   ],
   "source": [
    "if __name__ == \"__main__\":\n",
    "    main()"
   ]
  },
  {
   "cell_type": "code",
   "execution_count": null,
   "id": "f98cb5dd-ba4e-418f-83ba-839df80755d3",
   "metadata": {},
   "outputs": [],
   "source": []
  }
 ],
 "metadata": {
  "kernelspec": {
   "display_name": "Python 3 (ipykernel)",
   "language": "python",
   "name": "python3"
  },
  "language_info": {
   "codemirror_mode": {
    "name": "ipython",
    "version": 3
   },
   "file_extension": ".py",
   "mimetype": "text/x-python",
   "name": "python",
   "nbconvert_exporter": "python",
   "pygments_lexer": "ipython3",
   "version": "3.11.5"
  }
 },
 "nbformat": 4,
 "nbformat_minor": 5
}
